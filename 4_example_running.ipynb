{
 "cells": [
  {
   "cell_type": "markdown",
   "id": "f958fba0-181c-44ac-bea3-ce2c0143497f",
   "metadata": {},
   "source": [
    "# Example: Calculation of  $\\Delta\\alpha^{(5)}(M^2_Z)$"
   ]
  },
  {
   "cell_type": "markdown",
   "id": "461cc0bf-d65c-431c-a1ff-e5f5f7a192b7",
   "metadata": {},
   "source": [
    "## Load your functions"
   ]
  },
  {
   "cell_type": "code",
   "execution_count": 1,
   "id": "8940c399-b66c-4e2f-9fd6-5a3177a4c194",
   "metadata": {},
   "outputs": [],
   "source": [
    "from adlerpy.adler_routines import Particle\n",
    "from adlerpy.adler_sm import adler_charm_pert # The charm quark connected contribution to the Adler function\n",
    "from adlerpy.adler_sm import adler_bottom_pert # The bottom quark connected contribution to the Adler function\n",
    "from adlerpy.adler_sm import adler_light_pert # The light quark connected contribution to the Adler function\n",
    "from adlerpy.adler_sm import adler_OZI_pert # The quark disconnected contribution to the Adler function\n",
    "from matplotlib import pyplot as plt  # To make some plots. \n",
    "import pandas as pd  # to create tables. \n",
    "from scipy.integrate import quad # to do the integrals. \n",
    "import numpy as np\n",
    "import time\n",
    "\n"
   ]
  },
  {
   "cell_type": "markdown",
   "id": "000a1ad0-e152-4af8-bdd3-7f0549a1eba8",
   "metadata": {},
   "source": [
    "## Create the particles"
   ]
  },
  {
   "cell_type": "code",
   "execution_count": 2,
   "id": "30e84edc-980f-41f0-b65c-6bb118d42c6e",
   "metadata": {},
   "outputs": [],
   "source": [
    "aZ=0.1185;\n",
    "Mz=91.1876;\n",
    "mc0=1.273;\n",
    "mb0=4.18\n",
    "alpha0=1/137.035999180;\n",
    "nloops=5\n",
    "charm=[]\n",
    "\n",
    "\n",
    "#Here you define the SM particles \n",
    "up=Particle(\"up\",x=[2.16*0.001,2,3],mudec=0.001,mpole=None,mpole_on=False)\n",
    "down=Particle(\"down\",x=[4.67*0.001,2,3],mudec=0.001,mpole=None,mpole_on=False)\n",
    "strange=Particle(\"strange\",x=[0.09203,2,3],mudec=0.001,mpole=None,mpole_on=False)\n",
    "charm=Particle(\"charm\",x=[mc0,mc0,4],mudec=2*(mc0),mpole=1.666,mpole_on=False)\n",
    "bottom=Particle(\"bottom\",x=[mb0,mb0,5],mudec=2*mb0,mpole=4.8,mpole_on=False)\n",
    "top=Particle(\"top\",x=[164,164,6],mudec=164,mpole=164,mpole_on=True) # not necessary in this case.\n",
    "particle_list=[up,charm,down,strange,bottom,top] \n",
    "\n"
   ]
  },
  {
   "cell_type": "markdown",
   "id": "b5a56357-81ed-406a-9bdd-aef4b2139b44",
   "metadata": {},
   "source": [
    "## Define function to be integrated \n",
    "In this case we want to integrate \n",
    "\\begin{equation}\n",
    "\\frac{\\alpha}{3\\pi}\\int^{M^2_Z}_{Q^2_0}\\frac{D(Q)}{Q^2}dQ^2\n",
    "\\end{equation}\n",
    "\n",
    "Following the paper 2308.05740 I compute the charm and bottom quarks completely in pQCD. Hence for them $Q_0=0$. For the light quarks, and the disconnected terms the cuttof is chosen to be $Q_0=2$ GeV. "
   ]
  },
  {
   "cell_type": "code",
   "execution_count": 3,
   "id": "5224fdfc-5c8f-472e-9525-aa08cd5498a2",
   "metadata": {},
   "outputs": [],
   "source": [
    "def integrand_charm(Q,aZ,Mz,particles,GG,qq,nloops,QED):\n",
    "    return 2*alpha0/3/np.pi*(adler_charm_pert(aZ,Mz,Q=Q,particles=particle_list,mpole_on=False,cut_low_as3=1.0,nloops=nloops,GG=GG,QED=QED))/Q;\n",
    "\n",
    "def integrand_bottom(Q,aZ,Mz,particles,GG,qq,nloops,QED):\n",
    "    return 2*alpha0/3/np.pi*(adler_bottom_pert(aZ,Mz,Q=Q,particles=particle_list,mpole_on=False,cut_low_as3=1.3,nloops=nloops,GG=GG,QED=QED))/Q;\n",
    "\n",
    "def integrand_light(Q,aZ,Mz,particles,GG,qq,nloops,QED):\n",
    "    return 2*alpha0/3/np.pi*(adler_light_pert(aZ,Mz,Q=Q,particles=particle_list,nloops=nloops,GG=GG,qq=qq,QED=QED))/Q;\n",
    "\n",
    "def integrand_disconnected(Q,aZ,Mz,particles,GG,qq,nloops,QED):\n",
    "    return 2*alpha0/3/np.pi*(adler_OZI_pert(aZ,Mz,Q,particles,nloops=nloops,QED=QED,GG=GG,qq=qq))/Q;\n"
   ]
  },
  {
   "cell_type": "markdown",
   "id": "1a506a6a-8a01-40ff-a3e2-31192088470e",
   "metadata": {},
   "source": [
    "## Compute the Charm contribution"
   ]
  },
  {
   "cell_type": "code",
   "execution_count": 4,
   "id": "fc2da057-4f28-4073-8667-12c74c6d8aa1",
   "metadata": {},
   "outputs": [
    {
     "name": "stdout",
     "output_type": "stream",
     "text": [
      "[ 0 , 0.5 ]=  0.418199713283314 0.21 s\n",
      "[ 0.5 , 1 ]=  1.1757616784453502 0.15 s\n",
      "[ 1 , 1.7821999999999998 ]=  2.902897963941941 2.37 s\n",
      "[ 1.7821999999999998 , 3.3098 ]=  6.790448304625509 4.01 s\n",
      "[ 3.3098 , 8 ]=  16.001703272831765 1.37 s\n",
      "[ 8 , 9 ]=  2.4287749857802687 1.46 s\n",
      "[ 9 , 12 ]=  6.050394269093238 0.12 s\n",
      "[ 12 , 15 ]=  4.7624445165518186 0.11 s\n",
      "[ 15 , 91.1876 ]=  38.86422215574841 0.11 s\n",
      "Total time= 9.93 s\n",
      "79.55515056781147\n"
     ]
    }
   ],
   "source": [
    "GG=0.00;\n",
    "qq=0;\n",
    "nloops=5\n",
    "QED=True\n",
    "a=aZ/np.pi\n",
    "\n",
    "Integrals=[]\n",
    "Intervals=[0,0.5,1,2*mc0*0.7,2*mc0*1.3,8,9,12,15,Mz];\n",
    "\n",
    "start = time.time()\n",
    "end=start\n",
    "for i in range(len(Intervals)-1):\n",
    "    Integrals.append(quad(integrand_charm, \n",
    "                          Intervals[i],\n",
    "                          Intervals[i+1],args=(aZ,Mz,particle_list,GG,qq,nloops,QED))[0])\n",
    "    end0=end;\n",
    "    end = time.time()\n",
    "    print(\"[\",Intervals[i],\",\",Intervals[i+1],\"]= \",Integrals[i]*10000, round(end - end0,2), \"s\")\n",
    "print(\"Total time=\",round(end-start,2),\"s\")\n",
    "changecharm=1/137.036/np.pi*(4.203720393056578*a**2 + 17.148364322869213*a**3)\n",
    "dacharm=sum(Integrals)+changecharm;\n",
    "print((dacharm)*10000)\n"
   ]
  },
  {
   "cell_type": "code",
   "execution_count": 5,
   "id": "3aa01e79-05a9-4cac-8761-9bf741c19f67",
   "metadata": {},
   "outputs": [
    {
     "data": {
      "text/plain": [
       "0.1304547989382261"
      ]
     },
     "execution_count": 5,
     "metadata": {},
     "output_type": "execute_result"
    }
   ],
   "source": [
    "#The perturbative error is taken to be dommminated by the interpolated region in the region between [2mc0*0.7,2*mc*1.3]. I take it to be the difference between the \n",
    "#alphas^2 and alphas^1 contributions. The result is\n",
    "6.918785860212447-6.788331061274221"
   ]
  },
  {
   "cell_type": "markdown",
   "id": "06411a00-4688-4305-9719-e383a8bc0159",
   "metadata": {},
   "source": [
    "## Compute the Bottom contribution"
   ]
  },
  {
   "cell_type": "code",
   "execution_count": 6,
   "id": "c9df2697-abd5-4d1d-b945-741c4694848b",
   "metadata": {},
   "outputs": [
    {
     "name": "stdout",
     "output_type": "stream",
     "text": [
      "[ 0.001 , 0.5 ]=  0.008730297036625433 0.22 s\n",
      "[ 0.5 , 1 ]=  0.026028753973210497 0.23 s\n",
      "[ 1 , 5.851999999999999 ]=  0.9631993034865562 1.27 s\n",
      "[ 5.851999999999999 , 10.868 ]=  1.5340589485824758 5.46 s\n",
      "[ 10.868 , 15 ]=  1.201897753537221 0.13 s\n",
      "[ 15 , 20 ]=  1.2566561996892338 0.12 s\n",
      "[ 20 , 30 ]=  1.9634188711721754 0.13 s\n",
      "[ 30 , 91.1876 ]=  5.824362165864191 1.28 s\n",
      "Total time= 8.84 s\n"
     ]
    },
    {
     "data": {
      "text/plain": [
       "12.788071079002904"
      ]
     },
     "execution_count": 6,
     "metadata": {},
     "output_type": "execute_result"
    }
   ],
   "source": [
    "GG=0.00;\n",
    "qq=0;\n",
    "nloops=5\n",
    "QED=True\n",
    "a=aZ/np.pi\n",
    "\n",
    "Integrals=[]\n",
    "Intervals=[0.001,0.5,1,2*mb0*0.7,2*mb0*1.3,15,20,30,Mz];\n",
    "mb=bottom.mrun(aZ=aZ,Mz=Mz,mu=Mz,particles=particle_list)\n",
    "changebottom=1/137.036/np.pi*(-4*mb**2/3/Mz**2+1.0509300982641445*a**2 + 4.287091080717303*a**3)\n",
    "\n",
    "start = time.time()\n",
    "end=start\n",
    "for i in range(len(Intervals)-1):\n",
    "    Integrals.append(quad(integrand_bottom, \n",
    "                          Intervals[i],\n",
    "                          Intervals[i+1],args=(aZ,Mz,particle_list,GG,qq,nloops,QED))[0])\n",
    "    end0=end;\n",
    "    end = time.time()\n",
    "    print(\"[\",Intervals[i],\",\",Intervals[i+1],\"]= \",Integrals[i]*10000, round(end - end0,2), \"s\")\n",
    "print(\"Total time=\",round(end-start,2),\"s\")\n",
    "dabottom=sum(Integrals)+changebottom;\n",
    "(dabottom)*10000"
   ]
  },
  {
   "cell_type": "code",
   "execution_count": 7,
   "id": "25ea06eb-86f8-4a4a-8fdb-e5c25a762ea5",
   "metadata": {},
   "outputs": [
    {
     "name": "stdout",
     "output_type": "stream",
     "text": [
      "[ 2 , 9 ]=  3.44 s\n",
      "[ 9 , 12 ]=  0.09 s\n",
      "[ 12 , 15 ]=  0.08 s\n",
      "[ 15 , 91.1876 ]=  0.08 s\n",
      "Total time= 3.69 s\n"
     ]
    },
    {
     "data": {
      "text/plain": [
       "126.03396304974557"
      ]
     },
     "execution_count": 7,
     "metadata": {},
     "output_type": "execute_result"
    }
   ],
   "source": [
    "GG=0.00;\n",
    "qq=0.00;\n",
    "nloops=5\n",
    "QED=True\n",
    "a=aZ/np.pi\n",
    "\n",
    "Integrals=[]\n",
    "Intervals=[2,9,12,15,Mz];\n",
    "changelight=1/137.036/np.pi*(6.305580589584867*a**2 + 25.72254648430382*a**3)\n",
    "\n",
    "start = time.time()\n",
    "end=start\n",
    "for i in range(len(Intervals)-1):\n",
    "    Integrals.append(quad(integrand_light, \n",
    "                          Intervals[i],\n",
    "                          Intervals[i+1],args=(aZ,Mz,particle_list,GG,qq,nloops,QED))[0])\n",
    "    end0=end;\n",
    "    end = time.time()\n",
    "    print(\"[\",Intervals[i],\",\",Intervals[i+1],\"]= \", round(end - end0,2), \"s\")\n",
    "print(\"Total time=\",round(end-start,2),\"s\")\n",
    "dalight=sum(Integrals)+changelight\n",
    "(dalight)*10000"
   ]
  },
  {
   "cell_type": "code",
   "execution_count": 8,
   "id": "0f9c9dd7-bc45-40f1-8e3f-8ea768ffe880",
   "metadata": {},
   "outputs": [
    {
     "name": "stdout",
     "output_type": "stream",
     "text": [
      "[ 2 , 9 ]=  0.05 s\n",
      "[ 9 , 12 ]=  0.0 s\n",
      "[ 12 , 15 ]=  0.0 s\n",
      "[ 15 , 91.1876 ]=  0.0 s\n",
      "Total time= 0.06 s\n"
     ]
    },
    {
     "data": {
      "text/plain": [
       "-0.024271480484553867"
      ]
     },
     "execution_count": 8,
     "metadata": {},
     "output_type": "execute_result"
    }
   ],
   "source": [
    "GG=0;\n",
    "qq=0;\n",
    "nloops=5\n",
    "QED=True\n",
    "a=aZ/np.pi\n",
    "\n",
    "Integrals=[]\n",
    "Intervals=[2,9,12,15,Mz];\n",
    "changelight=1/137.036/np.pi*(6.305580589584867*a**2 + 25.72254648430382*a**3)\n",
    "\n",
    "start = time.time()\n",
    "end=start\n",
    "for i in range(len(Intervals)-1):\n",
    "    Integrals.append(quad(integrand_disconnected, \n",
    "                          Intervals[i],\n",
    "                          Intervals[i+1],args=(aZ,Mz,particle_list,GG,qq,nloops,QED))[0])\n",
    "    end0=end;\n",
    "    end = time.time()\n",
    "    print(\"[\",Intervals[i],\",\",Intervals[i+1],\"]= \", round(end - end0,2), \"s\")\n",
    "print(\"Total time=\",round(end-start,2),\"s\")\n",
    "dasiconnected=sum(Integrals)\n",
    "(dasiconnected)*10000 "
   ]
  },
  {
   "cell_type": "code",
   "execution_count": null,
   "id": "b2c8931c-da15-41b2-ae9a-5f785dc2934a",
   "metadata": {},
   "outputs": [],
   "source": []
  },
  {
   "cell_type": "code",
   "execution_count": 9,
   "id": "952cdd50-b71d-49b4-a33e-be8c12990d45",
   "metadata": {},
   "outputs": [],
   "source": [
    "def adlertot(aZ,Mz,Q,particles,nloops,GG,qq):\n",
    "    adlight=adler_light_pert(aZ=aZ,Mz=Mz,Q=Q,particles=particles,nloops=nloops,GG=GG,qq=qq,QED=True)\n",
    "    adc=adler_charm_pert(aZ=aZ,Mz=Mz,Q=Q,particles=particles,mpole_on=False,nloops=nloops,GG=GG,QED=True)\n",
    "    adb=adler_bottom_pert(aZ=aZ,Mz=Mz,Q=Q,particles=particles,mpole_on=False,nloops=nloops,GG=GG,QED=True)\n",
    "    adozi=adler_OZI_pert(aZ,Mz,Q,particles,nloops=nloops,QED=QED,GG=GG,qq=qq)\n",
    "    return adlight+adc+adb+adozi\n",
    "\n",
    "q_list = np.arange(1.2,90,0.05)\n",
    "adlist=[adlertot(aZ=aZ,Mz=Mz,Q=q,particles=particle_list,nloops=5,GG=0,qq=0) for q in q_list];\n",
    "\n"
   ]
  },
  {
   "cell_type": "code",
   "execution_count": 10,
   "id": "ca3ea202-f101-4f3a-b9f9-6d1c88ad96a2",
   "metadata": {},
   "outputs": [
    {
     "name": "stderr",
     "output_type": "stream",
     "text": [
      "No artists with labels found to put in legend.  Note that artists whose label start with an underscore are ignored when legend() is called with no argument.\n"
     ]
    },
    {
     "data": {
      "image/png": "[encoded data removed]",
      "text/plain": [
       "<Figure size 432x288 with 1 Axes>"
      ]
     },
     "metadata": {
      "needs_background": "light"
     },
     "output_type": "display_data"
    }
   ],
   "source": [
    "fig, ax = plt.subplots()\n",
    "#plt.plot(qplot,aslat,color=\"blue\",linewidth=0.8)\n",
    "plt.plot(q_list,adlist,color=\"blue\",linewidth=0.9)\n",
    "plt.grid()\n",
    "plt.xticks(fontsize=14)\n",
    "ax.spines['bottom'].set_linewidth(1.3)\n",
    "ax.spines['left'].set_linewidth(1.3)\n",
    "ax.spines['top'].set_linewidth(1.3)\n",
    "ax.spines['right'].set_linewidth(1.3)\n",
    "ax.set(xlabel='$Q^2$ (GeV)', ylabel='$\\hat{\\\\alpha}_s(M_Z)$')\n",
    "ax.set_xlim([0,20])\n",
    "ax.set_ylim([2,4])\n",
    "plt.show()"
   ]
  },
  {
   "cell_type": "code",
   "execution_count": null,
   "id": "c6ac4e58-6b8e-4439-8d12-1384130eb3c8",
   "metadata": {},
   "outputs": [],
   "source": []
  }
 ],
 "metadata": {
  "kernelspec": {
   "display_name": "Python 3 (ipykernel)",
   "language": "python",
   "name": "python3"
  },
  "language_info": {
   "codemirror_mode": {
    "name": "ipython",
    "version": 3
   },
   "file_extension": ".py",
   "mimetype": "text/x-python",
   "name": "python",
   "nbconvert_exporter": "python",
   "pygments_lexer": "ipython3",
   "version": "3.10.5"
  }
 },
 "nbformat": 4,
 "nbformat_minor": 5
}
