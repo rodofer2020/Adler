{
 "cells": [
  {
   "cell_type": "markdown",
   "id": "f65ab2f7-b14d-48fe-95bf-bafa6cc87c33",
   "metadata": {},
   "source": [
    "# Example: Comparison of $\\Pi_c$"
   ]
  },
  {
   "cell_type": "code",
   "execution_count": 3,
   "id": "94009984-4aee-4eb0-b614-ee8deb5cef59",
   "metadata": {},
   "outputs": [],
   "source": [
    "from adlerpy.adler_sm import adler_charm_pert\n",
    "from adlerpy.adler_sm import adler_bottom_pert\n",
    "from scipy.optimize import fsolve\n",
    "\n",
    "from adlerpy.adler_routines import Particle\n",
    "from adlerpy.adler_routines import adler_massless_connected\n",
    "from scipy.integrate import quad\n",
    "from matplotlib import pyplot as plt \n",
    "import numpy as np \n",
    "import pandas as pd\n",
    "\n",
    "\n",
    "#Create the particles\n",
    "aZ=0.1185;\n",
    "Mz=91.1876;\n",
    "\n",
    "\n",
    "#Here you define the SM particles \n",
    "\n",
    "up=Particle(\"up\",x=[2.16*0.001,2,3],mudec=0.001,mpole=None,mpole_on=False)\n",
    "down=Particle(\"down\",x=[4.67*0.001,2,3],mudec=0.001,mpole=None,mpole_on=False)\n",
    "strange=Particle(\"strange\",x=[0.09203,2,3],mudec=0.001,mpole=None,mpole_on=False)\n",
    "charm=Particle(\"charm\",x=[1.273,1.273,4],mudec=2*1.273,mpole=1.67,mpole_on=False)\n",
    "bottom=Particle(\"bottom\",x=[4.18,4.18,5],mudec=2*4.18,mpole=4.25,mpole_on=False)\n",
    "top=Particle(\"top\",x=[164,164,6],mudec=164,mpole=164,mpole_on=False)\n",
    "particle_list=[up,charm,down,strange,bottom,top] \n"
   ]
  },
  {
   "cell_type": "markdown",
   "id": "5bc12359-e0d5-4398-8968-e3047bc21b19",
   "metadata": {},
   "source": [
    "## Load lattice points"
   ]
  },
  {
   "cell_type": "code",
   "execution_count": null,
   "id": "fe98791e-0419-4e5b-8ab3-2fafc503abfb",
   "metadata": {},
   "outputs": [],
   "source": [
    "Πcc_df=pd.read_csv('Picc.csv')\n",
    "Q2_list=np.array(Πcc_df['Q2GeV'][0:80])\n",
    "Pilatc=4/9*np.array(Πcc_df['$\\Pi_{cc}$'][0:80]) #I must to add the charge square to the lattice value\n",
    "error=4/9*np.array(Πcc_df[\"total\"][0:80])\n",
    "\n",
    "nloops_list=[0,1,2,3] #nloops to be compared\n",
    "\n",
    "#----For plotting later:\n",
    "loops_style=[\"dotted\",\"-.\",\"--\",\"solid\"] \n",
    "labels_MS=[\"$\\mathcal{O}(\\hat{\\\\alpha}^{0}_s)$ $\\overline{\\mathrm{MS}}$\",\n",
    "          \"$\\mathcal{O}(\\hat{\\\\alpha}^{1}_s)$ $\\overline{\\mathrm{MS}}$\",\n",
    "          \"$\\mathcal{O}(\\hat{\\\\alpha}^{2}_s)$$\\overline{\\mathrm{MS}}$\",\n",
    "          \"$\\mathcal{O}(\\hat{\\\\alpha}^{3}_s)$ $\\overline{\\mathrm{MS}}$\",]   \n",
    "labels_OS=[\"$\\mathcal{O}(\\hat{\\\\alpha}^{0}_s)$ OS\",\n",
    "           \"$\\mathcal{O}(\\hat{\\\\alpha}^{1}_s)$ OS\",\n",
    "          \"$\\mathcal{O}(\\hat{\\\\alpha}^{2}_s)$ OS\",\n",
    "          \"$\\mathcal{O}(\\hat{\\\\alpha}^{3}_s)$ OS\"]   \n"
   ]
  },
  {
   "cell_type": "markdown",
   "id": "4a903f30-5bb8-40e4-a827-e505793ae84b",
   "metadata": {},
   "source": [
    "## Define the intgral to get $\\Pi_c$ from $D_c$"
   ]
  },
  {
   "cell_type": "code",
   "execution_count": null,
   "id": "204b24e9-cb28-4ee1-89a8-6430df0dd231",
   "metadata": {},
   "outputs": [],
   "source": [
    "# Compare with lattice QCD:\n",
    "\n",
    "def integrand(Q2,aZ,particle_list,mpole_on,nloops,cut_high_as3,cut_low_as3,GG):\n",
    "    alpha0=1/137.036\n",
    "    Q=np.sqrt(Q2);\n",
    "    return 1/12/np.pi**2*(adler_charm_pert(aZ,Mz,Q=Q,particles=particle_list,mpole_on=mpole_on,nloops=nloops,\n",
    "                                           cut_high_as3=cut_high_as3,cut_low_as3=cut_low_as3,GG=GG))/Q2;\n",
    "\n",
    "def Pi(Q2,aZ,particle_list,mpole_on,nloops,cut_high_as3=20,cut_low_as3=0.3,GG=0):\n",
    "    return quad(integrand, 0.0000, Q2,args=(aZ,particle_list,mpole_on,nloops,cut_high_as3,cut_low_as3,GG))[0]\n"
   ]
  },
  {
   "cell_type": "markdown",
   "id": "16d5dd9d-4365-4954-b795-f2356ab97ddb",
   "metadata": {},
   "source": [
    "## Compute $\\Pi_c$"
   ]
  },
  {
   "cell_type": "code",
   "execution_count": null,
   "id": "158c6b03-b7f9-456f-9b09-3f5f10bd3e60",
   "metadata": {},
   "outputs": [],
   "source": [
    "\n",
    "PiMS_list=[]\n",
    "PiOS_list=[]\n",
    "for nloops in nloops_list:\n",
    "    pims=[]\n",
    "    pios=[]\n",
    "    print(\"I am computing the \",nloops, \"order\")\n",
    "    for Q2 in Q2_list:\n",
    "        pims.append(Pi(Q2,aZ=aZ,particle_list=particle_list,mpole_on=False,nloops=nloops,cut_high_as3=20,cut_low_as3=1))\n",
    "        pios.append(Pi(Q2,aZ=aZ,particle_list=particle_list,mpole_on=True,nloops=nloops,cut_high_as3=20,cut_low_as3=1))\n",
    "    PiMS_list.append(pims)\n",
    "    PiOS_list.append(pios)\n"
   ]
  },
  {
   "cell_type": "markdown",
   "id": "b9c23f97-993e-4873-a575-31512b0f8ce8",
   "metadata": {},
   "source": [
    "## Lets make the plots"
   ]
  },
  {
   "cell_type": "code",
   "execution_count": null,
   "id": "732ec444-4100-43cd-80e2-cf0fe20364df",
   "metadata": {},
   "outputs": [],
   "source": [
    "fig, ax = plt.subplots()\n",
    "\n",
    "plt.scatter(Q2_list, Pilatc, color=\"Black\",s=0.2)\n",
    "plt.errorbar(Q2_list, Pilatc, yerr=error,capsize=1, ls = \"None\",elinewidth=0.5, capthick=0.5,label='Lattice Mainz',color=\"Black\")\n",
    "for i in range(len(nloops_list)):\n",
    "    plt.plot(Q2_list, PiMS_list[i],color=\"blue\",linestyle=loops_style[i],label=labels_MS[i],linewidth=0.5)\n",
    "    plt.plot(Q2_list, PiOS_list[i],color=\"red\",linestyle=loops_style[i],label=labels_OS[i],linewidth=0.5)\n",
    "\n",
    "plt.xlabel('$Q^2$ (GeV)',fontsize=16)\n",
    "plt.ylabel('$\\Pi_c(Q)$',fontsize=17)\n",
    "\n",
    "#ax.set(xlabel='$Q^2$ (GeV)', ylabel='$\\Pi_c(Q)$',fontsize=16)\n",
    "plt.grid()\n",
    "plt.xticks(fontsize=14)\n",
    "ax.set_xlim([0.5,3])\n",
    "ax.set_ylim([0,0.006])\n",
    "ax.spines['bottom'].set_linewidth(1.3)\n",
    "ax.spines['left'].set_linewidth(1.3)\n",
    "ax.spines['top'].set_linewidth(1.3)\n",
    "ax.spines['right'].set_linewidth(1.3)\n",
    "ax.legend(bbox_to_anchor=(1.03, 0.9), loc='upper left',prop={'size': 10})\n",
    "\n",
    "fig.savefig(\"ExampleVacuumPolcharm.png\",dpi=900,bbox_inches='tight')\n",
    "plt.show()"
   ]
  },
  {
   "cell_type": "markdown",
   "id": "b605009c-d499-4f8a-b400-9058a4a9d9f9",
   "metadata": {},
   "source": [
    "## Compute corresponding mass\n",
    "Let us now compute to which value of the $\\overline{\\mathrm{MS}}$ the lattice result corresponds to. "
   ]
  },
  {
   "cell_type": "code",
   "execution_count": null,
   "id": "df3eedbb-f13d-478e-b0c7-25a0a51638a8",
   "metadata": {},
   "outputs": [],
   "source": [
    "# Compare with lattice QCD:\n",
    "\n",
    "def Pi_c(mc,Q2,aZ,nloops,GG=0):\n",
    "    charm_internal=Particle(\"charm\",x=[mc,mc,4],mudec=2*mc,mpole=1.67,mpole_on=False)\n",
    "    particle_list=[up,charm_internal,down,strange,bottom,top] \n",
    "    return  Pi(Q2,aZ,particle_list,mpole_on=False,nloops=nloops,cut_high_as3=20,cut_low_as3=1,GG=GG)\n",
    "   "
   ]
  },
  {
   "cell_type": "markdown",
   "id": "cd48dbb2-b8d8-4785-9e56-e598c2b3d7ee",
   "metadata": {},
   "source": [
    "The $\\hat{m}_c$ value is very stable. Let us take i=38, which correspondes to $Q^2=0.5\\,\\mathrm{GeV}$\n",
    "as our reference point. "
   ]
  },
  {
   "cell_type": "code",
   "execution_count": null,
   "id": "b490f1e5-7415-440a-9044-8ba4e5e153dc",
   "metadata": {},
   "outputs": [],
   "source": [
    "i=38\n",
    "aZ=0.1185\n",
    "daZ=0.0008\n",
    "q2=Q2_list[i];\n",
    "pilat=Pilatc[i];\n",
    "nloops=3;\n",
    "\n",
    "func = lambda mc :pilat - Pi_c(float(mc),q2,aZ,nloops)\n",
    "mc = fsolve(func,1.27)[0]\n"
   ]
  },
  {
   "cell_type": "markdown",
   "id": "233408be-4ac0-4ee6-81c0-60900e22d25b",
   "metadata": {},
   "source": [
    "Compute the error from lattice"
   ]
  },
  {
   "cell_type": "code",
   "execution_count": null,
   "id": "f3d27d24-a2da-4771-9a43-d00f9c3d5419",
   "metadata": {},
   "outputs": [],
   "source": [
    "func = lambda mc :pilat+error[i] - Pi_c(float(mc),q2,aZ,nloops)\n",
    "sol = fsolve(func,1.27)[0]\n",
    "laterr=(sol-mc) \n",
    "print(laterr)"
   ]
  },
  {
   "cell_type": "markdown",
   "id": "f5ca1a94-7158-4cd8-9fe6-fbd19008eb24",
   "metadata": {},
   "source": [
    "Compute the parametric dependence on $\\alpha_s$ "
   ]
  },
  {
   "cell_type": "code",
   "execution_count": null,
   "id": "30ae4a02-9366-4672-8c12-c02d0fca823f",
   "metadata": {},
   "outputs": [],
   "source": [
    "func = lambda mc :pilat - Pi_c(float(mc),q2,aZ+daZ,nloops)\n",
    "sol = fsolve(func,1.27)[0]\n",
    "paramas=(sol-mc)/daZ\n",
    "print(paramas)"
   ]
  },
  {
   "cell_type": "markdown",
   "id": "4bf13439-179a-48df-ac45-8cf8142e40b5",
   "metadata": {},
   "source": [
    "Compute the truncation error "
   ]
  },
  {
   "cell_type": "code",
   "execution_count": null,
   "id": "e9b06702-52d8-4d5a-8028-81b8293e38de",
   "metadata": {},
   "outputs": [],
   "source": [
    "func = lambda mc :pilat - Pi_c(float(mc),q2,aZ,nloops-1)\n",
    "sol = fsolve(func,1.27)[0]\n",
    "trunc=(sol-mc)\n",
    "print(trunc)"
   ]
  },
  {
   "cell_type": "markdown",
   "id": "159314f0-9399-46e4-8ff0-f1e5e4bddb37",
   "metadata": {},
   "source": [
    "Compute condensate effects"
   ]
  },
  {
   "cell_type": "code",
   "execution_count": null,
   "id": "8391aafb-f923-476e-8860-409097d49bda",
   "metadata": {},
   "outputs": [],
   "source": [
    "func = lambda mc :pilat - Pi_c(float(mc),q2,aZ,nloops,GG=0.01)\n",
    "asol = fsolve(func,1.27)[0]\n",
    "cond=(asol-mc)\n",
    "print(cond)"
   ]
  },
  {
   "cell_type": "markdown",
   "id": "56d6c6a9-c62b-46e2-a8f4-0292f7aa4c74",
   "metadata": {},
   "source": [
    "Pretty printing"
   ]
  },
  {
   "cell_type": "code",
   "execution_count": null,
   "id": "4de461a5-2ae5-4af7-89ac-f570a2c7d704",
   "metadata": {},
   "outputs": [],
   "source": [
    "text=(\"\\hat{m}_c(\\hat{m}_c)= \"+ str(round(mc,3))+\n",
    "      \"+\"+\n",
    "      str(round(paramas,1))+\n",
    "      \"(\\hat{\\\\alpha}_s-0.1185)\"+\n",
    "      \"\\pm\"+\n",
    "      str(round(np.abs(laterr),3))+\n",
    "      \"_{\\mathrm{latt}} \\pm\"+\n",
    "      str(round(np.abs(trunc),3))+\"_{\\mathrm{tr}}\\pm\"\n",
    "      +\n",
    "      str(round(np.abs(cond),3))+\"_{\\mathrm{cond}}\"\n",
    "     )\n",
    "from IPython.display import display, Math\n",
    "display(Math(text))\n",
    "dmc=np.sqrt((paramas*0.0016)**2+laterr**2+trunc**2+cond**2)\n",
    "print(\"total_error=\",round(dmc,3))"
   ]
  },
  {
   "cell_type": "markdown",
   "id": "c7051570-c845-4de7-b826-d362dbcfc1f6",
   "metadata": {},
   "source": [
    "## Make plot to compare with other results"
   ]
  },
  {
   "cell_type": "code",
   "execution_count": null,
   "id": "5222da56-3f7b-49de-841c-3f37466263a5",
   "metadata": {},
   "outputs": [],
   "source": [
    "import numpy as np\n",
    "import matplotlib.pyplot as plt\n",
    "\n",
    "# example data\n",
    "x = np.arange(0, 4, 1)\n",
    "y = -0.2* x\n",
    "\n",
    "labels=[\"Mainz:2022 (in this work)\",\"Petreczky:19\",\"Erler:2016\",\"Maezawa:2016\",\n",
    "        \"Nakayama:2016\",\"Chakraborty:2014\",\"Dehnadi:2015\",\"Narison:2011\",\"Bodenstein:2011\",\"Chetyrkin:2010\",\"HPQCD 10\"]\n",
    "Mw_list=[mc,1.265,1.274,1.267,1.2871,1.2715,1.288,1.261,1.278,1.279,1.273]\n",
    "σ_list=[dmc,0.010,0.009,0.011,0.01,0.0095,0.020,0.016,0.009,0.013,0.006]\n",
    "y_list=np.linspace(-9,9,num=len(σ_list))\n",
    "\n",
    "lower_error =  σ_list\n",
    "upper_error =  σ_list\n",
    "asymmetric_error = np.array(list(zip(lower_error, upper_error))).T\n",
    "\n",
    "fig = plt.figure()\n",
    "ax = fig.gca()\n",
    "plt.grid()\n",
    "ax.axes.get_yaxis().set_visible(False)\n",
    "plt.xticks(fontsize=14)\n",
    "plt.xlabel('$\\hat{m}_c(\\hat{m}_c)$ GeV ',fontsize=16)\n",
    "\n",
    "for i in range(len(Mw_list)):\n",
    "    plt.text(1.185, y_list[i], labels[i],dict(size=12))\n",
    "plt.errorbar(Mw_list, y_list, xerr=asymmetric_error, fmt='o',markersize=5,color=\"purple\",capsize=3.5, capthick=1.5,elinewidth=1.9,ecolor = 'Black')\n",
    "\n",
    "\n",
    "ax.spines['bottom'].set_linewidth(1.9)\n",
    "ax.spines['left'].set_linewidth(1.9)\n",
    "ax.spines['top'].set_linewidth(1.9)\n",
    "ax.spines['right'].set_linewidth(1.9)\n",
    "\n",
    "ax.set_xlim([1.23,1.32])\n",
    "ax.set_ylim([-10,10])\n",
    "ax.grid(which='major', color='#DDDDDD', linewidth=2.2)\n",
    "ax.grid(which='minor', color='#EEEEEE', linestyle=':', linewidth=2.2)\n",
    "ax.minorticks_on()\n",
    "plt.savefig('mcfromlattice.png',dpi=500,bbox_inches='tight')\n",
    "plt.show()\n"
   ]
  },
  {
   "cell_type": "code",
   "execution_count": null,
   "id": "05e686cf-4d35-4fb2-a88f-f6d4f107774d",
   "metadata": {},
   "outputs": [],
   "source": []
  },
  {
   "cell_type": "code",
   "execution_count": null,
   "id": "972fc04a-8f4f-4923-bf0a-0462cac09c77",
   "metadata": {},
   "outputs": [],
   "source": []
  },
  {
   "cell_type": "code",
   "execution_count": null,
   "id": "4875f48b-147d-4471-b633-d500be9a04c6",
   "metadata": {},
   "outputs": [],
   "source": []
  }
 ],
 "metadata": {
  "kernelspec": {
   "display_name": "Python 3 (ipykernel)",
   "language": "python",
   "name": "python3"
  },
  "language_info": {
   "codemirror_mode": {
    "name": "ipython",
    "version": 3
   },
   "file_extension": ".py",
   "mimetype": "text/x-python",
   "name": "python",
   "nbconvert_exporter": "python",
   "pygments_lexer": "ipython3",
   "version": "3.10.5"
  }
 },
 "nbformat": 4,
 "nbformat_minor": 5
}
