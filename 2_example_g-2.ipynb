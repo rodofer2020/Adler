{
 "cells": [
  {
   "cell_type": "markdown",
   "id": "edc24f86-81bd-424b-8e93-47e64f4274c0",
   "metadata": {},
   "source": [
    "# Compute $a^{c}_\\mu$ and $a^{b}_\\mu$"
   ]
  },
  {
   "cell_type": "code",
   "execution_count": 1,
   "id": "b76d156b-e3a0-4882-9f97-99bedb07b39b",
   "metadata": {},
   "outputs": [],
   "source": [
    "from adlerpy.adler_sm import adler_charm_pert\n",
    "from adlerpy.adler_sm import adler_bottom_pert\n",
    "from scipy.optimize import fsolve\n",
    "\n",
    "from adlerpy.adler_routines import Particle\n",
    "from scipy.integrate import quad\n",
    "from matplotlib import pyplot as plt \n",
    "import numpy as np \n",
    "import pandas as pd\n",
    "\n",
    "\n",
    "#Create the particles\n",
    "aZ=0.1185;\n",
    "Mz=91.1876;\n",
    "alpha0=1/137.035999180;\n",
    "\n",
    "\n",
    "#Here you define the SM particles \n",
    "\n",
    "up=Particle(\"up\",x=[2.16*0.001,2,3],mudec=0.001,mpole=None,mpole_on=False)\n",
    "down=Particle(\"down\",x=[4.67*0.001,2,3],mudec=0.001,mpole=None,mpole_on=False)\n",
    "strange=Particle(\"strange\",x=[0.09203,2,3],mudec=0.001,mpole=None,mpole_on=False)\n",
    "charm=Particle(\"charm\",x=[1.273,1.273,4],mudec=2*1.273,mpole=1.67,mpole_on=False)\n",
    "bottom=Particle(\"bottom\",x=[4.18,4.18,5],mudec=2*4.18,mpole=4.25,mpole_on=False)\n",
    "top=Particle(\"top\",x=[164,164,6],mudec=164,mpole=164,mpole_on=False)\n",
    "particle_list=[up,charm,down,strange,bottom,top] \n"
   ]
  },
  {
   "cell_type": "markdown",
   "id": "4702bfe1-1fbf-4ebe-b8b8-337ff75b90e0",
   "metadata": {},
   "source": [
    "## Define the functions to integrate "
   ]
  },
  {
   "cell_type": "code",
   "execution_count": 2,
   "id": "2d465a02-de75-4c74-b72d-0520c0048c0b",
   "metadata": {},
   "outputs": [],
   "source": [
    "def integrand_ac(Q2,aZ,mc,mpole_on=False,nloops=5,QED=False,GG=0,cut_high_as3=20,cut_low_as3=0.3):\n",
    "    ml=0.1057\n",
    "    u=np.sqrt(1 + (4*ml**2)/Q2);\n",
    "    kl=(u-1)**2/(u+1)**2/2\n",
    "    Q=np.sqrt(Q2);\n",
    "    \n",
    "    charm_intermidiate=Particle(\"charm\",x=[mc,mc,4],mudec=2*mc,mpole=1.67,mpole_on=False)\n",
    "    particle_list_intermediate=[up,charm_intermidiate,down,strange,bottom,top] \n",
    "\n",
    "    ad=(adler_charm_pert(aZ,Mz,Q=Q,\n",
    "                         particles=particle_list_intermediate,\n",
    "                         mpole_on=mpole_on,\n",
    "                         mu=None,\n",
    "                         nloops=nloops,\n",
    "                         cut_high_as3=cut_high_as3,\n",
    "                         cut_low_as3=cut_low_as3,\n",
    "                         QED=QED,\n",
    "                         GG=GG))/Q2\n",
    "    return (ad*kl)/3;\n",
    "\n",
    "def integrand_ab(Q2,aZ,mb,mpole_on=False,nloops=5,QED=False,GG=0,cut_high_as3=20,cut_low_as3=0.3):\n",
    "    ml=0.1057\n",
    "    u=np.sqrt(1 + (4*ml**2)/Q2);\n",
    "    kl=(u-1)**2/(u+1)**2/2\n",
    "    Q=np.sqrt(Q2);\n",
    "    bottom_intermediate=Particle(\"bottom\",x=[mb,mb,5],mudec=2*mb,mpole=4.25,mpole_on=False)\n",
    "    particle_list_intermidiate=[up,charm,down,strange,bottom_intermediate,top] \n",
    "\n",
    "    ad=(adler_bottom_pert(aZ,Mz,Q=Q,\n",
    "                         particles=particle_list_intermidiate,\n",
    "                         mpole_on=mpole_on,\n",
    "                         mu=None,\n",
    "                         nloops=nloops,\n",
    "                         cut_high_as3=cut_high_as3,\n",
    "                         cut_low_as3=cut_low_as3,\n",
    "                         QED=QED,\n",
    "                         GG=GG))/Q2\n",
    "    #ad=(1/3)**4*(3/4*alpha0/np.pi*adler_hq_full_one_loop_MS(Q,4.18,4.18))/Q2\n",
    "    return (ad*kl)/3"
   ]
  },
  {
   "cell_type": "markdown",
   "id": "5803c553-453c-4d0a-ab7e-4c98a4563e62",
   "metadata": {},
   "source": [
    "## Compute $a^{(c)}_\\mu$"
   ]
  },
  {
   "cell_type": "code",
   "execution_count": 3,
   "id": "6de53276-50cc-4b83-ada4-06071ce2c5c3",
   "metadata": {},
   "outputs": [],
   "source": [
    "QED=True;\n",
    "mpole_on=False\n",
    "GG=0;\n",
    "nloops=3;\n",
    "mc=1.273\n",
    "amuc=(alpha0/np.pi)**2*quad(integrand_ac, 0.0, np.infty,args=(aZ,mc,mpole_on,nloops,QED,GG))[0]*10**10\n",
    "amuc_low=(alpha0/np.pi)**2*quad(integrand_ac, 0.0, np.infty,args=(aZ,mc,mpole_on,nloops-1,QED,GG))[0]*10**10\n",
    "\n",
    "#-----------# the change in mc in the following line comes from the  correlation seen in  https://arxiv.org/pdf/1610.08531.pdf\n",
    "amuc_aplus=(alpha0/np.pi)**2*quad(integrand_ac, 0.0, np.infty,args=(aZ+0.0016,mc+2.616*0.0016,mpole_on,nloops,QED,GG))[0]*10**10 \n",
    "\n",
    "\n",
    "amuc_mcplus=(alpha0/np.pi)**2*quad(integrand_ac, 0.0, np.infty,args=(aZ,mc+0.008,mpole_on,nloops,QED,GG))[0]*10**10"
   ]
  },
  {
   "cell_type": "code",
   "execution_count": 4,
   "id": "5de6a5af-5dcc-42c1-8ebc-17f85832e2e2",
   "metadata": {},
   "outputs": [
    {
     "data": {
      "text/latex": [
       "$\\displaystyle a^{(c)}_\\mu\\times10^{10}= 14.57\\pm0.12_{\\alpha_s}\\pm0.2_{m_c} \\pm0.1_{\\mathrm{tr}}$"
      ],
      "text/plain": [
       "<IPython.core.display.Math object>"
      ]
     },
     "metadata": {},
     "output_type": "display_data"
    }
   ],
   "source": [
    "text=(\"a^{(c)}_\\\\mu\\\\times10^{10}= \"+ str(round(amuc,2))+\n",
    "      \"\\pm\"+\n",
    "      str(round(np.abs(amuc_aplus-amuc),2))+\n",
    "      \"_{\\\\alpha_s}\\pm\"+\n",
    "      str(round(np.abs(amuc_mcplus-amuc),2))+\n",
    "      \"_{m_c} \\pm\"+\n",
    "      str(round(np.abs(amuc_low-amuc),2))+\"_{\\mathrm{tr}}\"\n",
    "     )\n",
    "from IPython.display import display, Math\n",
    "display(Math(text))\n"
   ]
  },
  {
   "cell_type": "markdown",
   "id": "6a43d50a-0feb-4783-b082-792414e861b5",
   "metadata": {},
   "source": [
    "## Compute $a^{(b)}_\\mu$"
   ]
  },
  {
   "cell_type": "code",
   "execution_count": 5,
   "id": "4b54645b-c42d-45ca-b0e5-701a6b4d90bd",
   "metadata": {},
   "outputs": [],
   "source": [
    "QED=True;\n",
    "mpole_on=False\n",
    "GG=0;\n",
    "nloops=3;\n",
    "mb=4.18\n",
    "amub=(alpha0/np.pi)**2*quad(integrand_ab, 0, np.infty,args=(aZ,mb,mpole_on,nloops,QED,GG))[0]*10**10\n",
    "amub_low=(alpha0/np.pi)**2*quad(integrand_ab, 0, np.infty,args=(aZ,mb,mpole_on,nloops-1,QED,GG))[0]*10**10\n",
    "amub_aplus=(alpha0/np.pi)**2*quad(integrand_ab, 0, np.infty,args=(aZ+0.0016,mb,mpole_on,nloops,QED,GG))[0]*10**10 \n",
    "amub_mbplus=(alpha0/np.pi)**2*quad(integrand_ab, 0, np.infty,args=(aZ,mb+0.008,mpole_on,nloops,QED,GG))[0]*10**10"
   ]
  },
  {
   "cell_type": "code",
   "execution_count": 6,
   "id": "f6043efe-9b8d-4f0a-bbc7-85fb6e881383",
   "metadata": {},
   "outputs": [
    {
     "data": {
      "text/latex": [
       "$\\displaystyle a^{(b)}_\\mu\\times10^{10}= 0.302\\pm0.001_{\\alpha_s}\\pm0.001_{m_b} \\pm0.001_{\\mathrm{tr}}$"
      ],
      "text/plain": [
       "<IPython.core.display.Math object>"
      ]
     },
     "metadata": {},
     "output_type": "display_data"
    }
   ],
   "source": [
    "text=(\"a^{(b)}_\\\\mu\\\\times10^{10}= \"+ str(round(amub,3))+\n",
    "      \"\\pm\"+\n",
    "      str(round(np.abs(amub_aplus-amub),3))+\n",
    "      \"_{\\\\alpha_s}\\pm\"+\n",
    "      str(round(np.abs(amub_mbplus-amub),3))+\n",
    "      \"_{m_b} \\pm\"+\n",
    "      str(round(np.abs(amub_low-amub),3))+\"_{\\mathrm{tr}}\"\n",
    "     )\n",
    "from IPython.display import display, Math\n",
    "display(Math(text))\n"
   ]
  }
 ],
 "metadata": {
  "kernelspec": {
   "display_name": "Python 3 (ipykernel)",
   "language": "python",
   "name": "python3"
  },
  "language_info": {
   "codemirror_mode": {
    "name": "ipython",
    "version": 3
   },
   "file_extension": ".py",
   "mimetype": "text/x-python",
   "name": "python",
   "nbconvert_exporter": "python",
   "pygments_lexer": "ipython3",
   "version": "3.10.5"
  }
 },
 "nbformat": 4,
 "nbformat_minor": 5
}
