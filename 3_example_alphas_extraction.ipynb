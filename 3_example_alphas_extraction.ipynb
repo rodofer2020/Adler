{
 "cells": [
  {
   "cell_type": "markdown",
   "id": "8f6ca020-b41f-4f9a-91e2-45ad536e414a",
   "metadata": {},
   "source": [
    "# Extract $\\alpha_s$ from lattice "
   ]
  },
  {
   "cell_type": "code",
   "execution_count": 1,
   "id": "b0e4f64b-10bf-4c0d-bda4-894be5f59115",
   "metadata": {},
   "outputs": [],
   "source": [
    "from adlerpy.adler_sm import adler_charm_pert\n",
    "from adlerpy.adler_sm import adler_bottom_pert\n",
    "from adlerpy.adler_sm import adler_light_pert\n",
    "from scipy.optimize import fsolve\n",
    "from adlerpy.adler_routines import adler_o_masless_i_heavy\n",
    "from adlerpy.adler_routines import alphas\n",
    "from adlerpy.adler_routines import adler_massless_connected\n",
    "\n",
    "from adlerpy.adler_routines import Particle\n",
    "from scipy.integrate import quad\n",
    "from matplotlib import pyplot as plt \n",
    "import numpy as np \n",
    "import pandas as pd\n",
    "\n",
    "\n",
    "#Here you define the SM particles \n",
    "up=Particle(\"up\",x=[2.16*0.001,2,3],mudec=0.001,mpole=None,mpole_on=False)\n",
    "down=Particle(\"down\",x=[4.67*0.001,2,3],mudec=0.001,mpole=None,mpole_on=False)\n",
    "strange=Particle(\"strange\",x=[0.09203,2,3],mudec=0.001,mpole=None,mpole_on=False)\n",
    "charm=Particle(\"charm\",x=[1.273,1.273,4],mudec=2*1.273,mpole=1.67,mpole_on=False)\n",
    "bottom=Particle(\"bottom\",x=[4.18,4.18,5],mudec=2*4.18,mpole=4.25,mpole_on=False)\n",
    "top=Particle(\"top\",x=[164,164,6],mudec=164,mpole=164,mpole_on=False)\n",
    "particle_list=[up,charm,down,strange,bottom,top] "
   ]
  },
  {
   "cell_type": "markdown",
   "id": "45daec6e-1ff6-4aed-8deb-e8baa02160c3",
   "metadata": {},
   "source": [
    "## pQCD Adler function"
   ]
  },
  {
   "cell_type": "code",
   "execution_count": 2,
   "id": "217109b5-033a-4efb-a118-724e4fa7fc35",
   "metadata": {},
   "outputs": [],
   "source": [
    "def adlertot(aZ,Mz,Q,particles,nloops,mulow,GG,qq):\n",
    "    adlight=adler_light_pert(aZ=aZ,Mz=Mz,Q=Q,particles=particles,nloops=nloops,GG=GG,qq=qq,QED=False)\n",
    "    adc=adler_charm_pert(aZ=aZ,Mz=Mz,Q=Q,particles=particles,mulow=mulow,mpole_on=False,nloops=nloops,GG=GG,QED=False)\n",
    "    return adc+adlight\n"
   ]
  },
  {
   "cell_type": "markdown",
   "id": "595b772b-fa75-4d1a-b426-29e0aafaf79c",
   "metadata": {},
   "source": [
    "## Adler function from lattice QCD"
   ]
  },
  {
   "cell_type": "code",
   "execution_count": 3,
   "id": "31aebf8f-78a3-4700-883f-e95ea68347fd",
   "metadata": {},
   "outputs": [],
   "source": [
    "\n",
    "def adlerlattice(Q,x): #as a Pade approximant x are the coefficients of the Pade\n",
    "    a1=x[0]\n",
    "    a2=x[1]\n",
    "    a3=x[2]\n",
    "    b1=x[3]\n",
    "    b2=x[4]\n",
    "    b3=x[5]\n",
    "    Q2=Q*Q\n",
    "    return   (12*np.pi**2*Q2*(-(a1*(-1 + b2*Q2**2 + 2*b3*Q2**3)) + \n",
    "           Q2*(a3*Q2*(3 + 2*b1*Q2 + b2*Q2**2) + a2*(2 + b1*Q2 - b3*Q2**3))))/(1 + b1*Q2 + b2*Q2**2 + b3*Q2**3)**2\n",
    "\n",
    "def adlerlattice_grad(Q,x): #The gradient at each point to compute the error!\n",
    "    def f(y):\n",
    "        a1=y[0]\n",
    "        a2=y[1]\n",
    "        a3=y[2]\n",
    "        b1=y[3]\n",
    "        b2=y[4]\n",
    "        b3=y[5]\n",
    "        Q2=Q*Q\n",
    "        return (12*np.pi**2*Q2*(-(a1*(-1 + b2*Q2**2 + 2*b3*Q2**3)) + \n",
    "           Q2*(a3*Q2*(3 + 2*b1*Q2 + b2*Q2**2) + a2*(2 + b1*Q2 - b3*Q2**3))))/(1 + b1*Q2 + b2*Q2**2 + b3*Q2**3)**2\n",
    "    grad=[]\n",
    "    dx=0.00001;\n",
    "    for i in range(len(x)):\n",
    "        xplus=np.array(x);\n",
    "        xplus[i]=xplus[i]+dx;\n",
    "        grad.append((f(xplus)-f(x))/dx)\n",
    "    return grad\n",
    "\n",
    "def adlerlat_error(Q): #Basic error propagation. \n",
    "    x=[0.1094,0.093,0.0039,2.85,1.03,0.0166]\n",
    "    error=[0.0023,0.015,0.0006,0.22,0.19,0.0012]\n",
    "    cov=[[1,0.455,0.17,0.641,0.351,0.0489],\n",
    "     [0.455,1,0.823,0.946,0.977,-0.0934],\n",
    "     [0.17,0.823,1,0.642,0.915,0.0667],\n",
    "     [0.641,0.946,0.642,1,0.869,-0.044],\n",
    "     [0.351,0.977,0.915,0.869,1,-0.115],\n",
    "     [0.0489,-0.0934,0.0667,-0.044,-0.115,1]]\n",
    "    grad=adlerlattice_grad(Q,x)\n",
    "    for i in range(len(x)):\n",
    "        grad[i]=grad[i]*error[i]\n",
    "    return np.sqrt(np.dot(np.transpose(grad),np.dot(cov,grad)))"
   ]
  },
  {
   "cell_type": "markdown",
   "id": "93570f9c-826a-4387-8ad4-b14aacd91f20",
   "metadata": {},
   "source": [
    "## Compare pQCD and Lattice"
   ]
  },
  {
   "cell_type": "code",
   "execution_count": 4,
   "id": "b4edb1ed-7de2-46a1-87b6-1a91557889fd",
   "metadata": {},
   "outputs": [],
   "source": [
    "q_list = np.arange(np.sqrt(1.2),np.sqrt(7)+0.05,0.005)\n",
    "#q_list = np.arange(np.sqrt(6),np.sqrt(7)+0.05,0.001)\n",
    "\n",
    "x=[0.1094,0.093,0.0039,2.85,1.03,0.0166]\n",
    "# I am going to use data frames to keep it a bit cleaner. \n",
    "\n",
    "GG=0.012;  # Gluon condensate\n",
    "dGG=0.012; # Gluon condensate error 100%\n",
    "qq=-0.0013 # quark condensate\n",
    "dqq=0.0007 # quark condensate error\n",
    "aZ=0.1185; # central value\n",
    "Mz=91.1876\n",
    "daZ=0.0016 # error\n",
    "nloops=4;  # perturbative order alphas^5\n",
    "mulow=1.273     \n",
    "\n",
    "adms=[[],[],[]]\n",
    "adlat=[[],[],[]]\n",
    "aslat=[[],[],[]]\n",
    "acharm=[]\n",
    "alight=[]\n",
    "for q in q_list:\n",
    "        # Compute errors--------\n",
    "        adcentral=adlertot(aZ,Mz,q,particles=particle_list,nloops=nloops,mulow=mulow,GG=GG,qq=qq) # central value\n",
    "        adplusas=adlertot(aZ+daZ,Mz,q,particles=particle_list,nloops=nloops,mulow=mulow,GG=GG,qq=qq) # shift from alphas\n",
    "        adpluspert=adlertot(aZ,Mz,q,particles=particle_list,nloops=nloops-1,mulow=mulow,GG=GG,qq=qq) # truncation error\n",
    "        adplusGG=adlertot(aZ,Mz,q,particles=particle_list,nloops=nloops,mulow=mulow,GG=GG+dGG,qq=qq) # parametric shift GG\n",
    "        adplusqq=adlertot(aZ,Mz,q,particles=particle_list,nloops=nloops,mulow=mulow,GG=GG,qq=qq+dqq) # parametric shift qq\n",
    "        \n",
    "        # Total error include the parametric error from the input -----\n",
    "        error=np.sqrt((adplusas-adcentral)**2+(adpluspert-adcentral)**2+(adplusGG-adcentral)**2\n",
    "                      +(adplusqq-adcentral)**2\n",
    "                     )\n",
    "        \n",
    "        # Perturbative error just comming from the input paramerers \n",
    "        errorp=np.sqrt((adpluspert-adcentral)**2+(adplusGG-adcentral)**2\n",
    "                       +(adplusqq-adcentral)**2\n",
    "                     )\n",
    "       \n",
    "        a_lat=adlerlattice(q,x) \n",
    "        a_lat_err=adlerlat_error(q)\n",
    "        acharm.append(adler_charm_pert(aZ,Mz,Q=q,particles=particle_list,mulow=mulow,mpole_on=False,nloops=nloops,GG=GG,QED=False))\n",
    "        alight.append(adler_light_pert(aZ,Mz,Q=q,particles=particle_list,nloops=nloops,GG=GG,qq=qq,QED=False))\n",
    "        for i in [-1,0,1]:\n",
    "            adms[i+1].append(float(adcentral+i*error));\n",
    "            adlat[i+1].append(a_lat+i*a_lat_err)\n",
    "            func = lambda a :a_lat+i*np.sqrt(a_lat_err**2+errorp**2) - adlertot(float(a),Mz,q,particles=particle_list,nloops=nloops,GG=GG,mulow=mulow,qq=qq)\n",
    "            asol = fsolve(func,0.1185)[0]\n",
    "            aslat[i+1].append(asol)\n",
    "            "
   ]
  },
  {
   "cell_type": "markdown",
   "id": "9110ecf1-ad48-4fde-9a42-88564914bc0a",
   "metadata": {},
   "source": [
    "## Let us do some plotting "
   ]
  },
  {
   "cell_type": "code",
   "execution_count": 5,
   "id": "542e4880-d310-4692-9b7b-0d3175f38e60",
   "metadata": {},
   "outputs": [
    {
     "data": {
      "image/png": "[encoded data removed]",
      "text/plain": [
       "<Figure size 432x288 with 1 Axes>"
      ]
     },
     "metadata": {
      "needs_background": "light"
     },
     "output_type": "display_data"
    }
   ],
   "source": [
    "fig, ax = plt.subplots()\n",
    "qplot=q_list**2\n",
    "plt.plot(qplot,adms[2],color=\"blue\",label=\"pQCD\",linewidth=0.8)\n",
    "\n",
    "plt.plot(qplot,adms[0],color=\"blue\",linewidth=0.8)\n",
    "plt.fill_between(qplot, np.array(adms[0]), np.array(adms[2]),alpha=0.2)\n",
    "\n",
    "plt.plot(qplot,adlat[2],color=\"red\",label=\"lattice\",linewidth=0.8)\n",
    "plt.plot(qplot,adlat[0],color=\"red\",linewidth=0.8)\n",
    "plt.fill_between(qplot, np.array(adlat[0]), np.array(adlat[2]),alpha=0.2,color=\"red\")\n",
    "\n",
    "\n",
    "#textstr = '\\n'.join((\n",
    "#    r'$\\alpha_s(M_Z)=0.1185$',\n",
    "#    r'$\\hat{m}_c(\\hat{m}_c)=1.274\\,\\mathrm{GeV}$',\n",
    "#    r'$m^{\\mathrm{pole}}_c=1.65\\,\\mathrm{GeV}$'))\n",
    "#props = dict(boxstyle='round', facecolor='wheat', alpha=0.5)\n",
    "\n",
    "#place a text box in upper left in axes coords\n",
    "#ax.text(0.3, 0.3, textstr, transform=ax.transAxes, fontsize=9,\n",
    "#        verticalalignment='top', bbox=props)\n",
    "\n",
    "ax.legend()\n",
    "plt.grid()\n",
    "plt.xticks(fontsize=14)\n",
    "ax.spines['bottom'].set_linewidth(1.3)\n",
    "ax.spines['left'].set_linewidth(1.3)\n",
    "ax.spines['top'].set_linewidth(1.3)\n",
    "ax.spines['right'].set_linewidth(1.3)\n",
    "plt.legend(bbox_to_anchor=(0.7, 0.3), loc='upper left')\n",
    "ax.set(xlabel='$Q^2$ (GeV)', ylabel='$D(Q)$')\n",
    "ax.set_xlim([1.4,6.5])\n",
    "ax.set_ylim([2.4,3.1])\n",
    "\n",
    "fig.savefig(\"pQCDvsLatticeAdler.png\",dpi=600)\n",
    "plt.show()"
   ]
  },
  {
   "cell_type": "markdown",
   "id": "c24c766b-09ef-4353-bfb0-532ac3f435e8",
   "metadata": {},
   "source": [
    "## Now let is plot the extracted $\\alpha_s$"
   ]
  },
  {
   "cell_type": "code",
   "execution_count": 6,
   "id": "e460b306-893b-47ff-b753-1dd7644ee356",
   "metadata": {},
   "outputs": [
    {
     "data": {
      "image/png": "[encoded data removed]",
      "text/plain": [
       "<Figure size 432x288 with 1 Axes>"
      ]
     },
     "metadata": {
      "needs_background": "light"
     },
     "output_type": "display_data"
    }
   ],
   "source": [
    "fig, ax = plt.subplots()\n",
    "#plt.plot(qplot,aslat,color=\"blue\",linewidth=0.8)\n",
    "plt.plot(qplot,aslat[2],color=\"purple\",linewidth=0.9)\n",
    "plt.plot(qplot, aslat[0],color=\"purple\",label=\"Mainz Lattice+pQCD\",linewidth=0.9)\n",
    "plt.fill_between(np.array(qplot), np.array(aslat[0]), np.array(aslat[2]),alpha=0.2,color=\"purple\")\n",
    "\n",
    "plt.fill_between(np.array(qplot), 0.1185+0.0016, 0.1185-0.0016,alpha=0.2,color=\"orange\",label=\"PDG EW Global Fit\")\n",
    "plt.fill_between(np.array(qplot), 0.1184+0.0008, 0.1184-0.0008,alpha=0.2,color=\"green\",label=\"FLAG average\")\n",
    "\n",
    "textstr = \"pQCD error becomes \\n relevant here\"\n",
    "props = dict(boxstyle='round', facecolor='wheat', alpha=0.5)\n",
    "\n",
    "#place a text box in upper left in axes coords\n",
    "ax.text(0.03, 0.2, textstr, transform=ax.transAxes, fontsize=9,\n",
    "        verticalalignment='top', bbox=props)\n",
    "\n",
    "textstr = \"Lattice  error \\n  dominates here\"\n",
    "props = dict(boxstyle='round', facecolor='wheat', alpha=0.5)\n",
    "\n",
    "#place a text box in upper left in axes coords\n",
    "ax.text(0.6, 0.75, textstr, transform=ax.transAxes, fontsize=9,\n",
    "        verticalalignment='top', bbox=props)\n",
    "\n",
    "ax.legend()\n",
    "plt.grid()\n",
    "plt.xticks(fontsize=14)\n",
    "ax.spines['bottom'].set_linewidth(1.3)\n",
    "ax.spines['left'].set_linewidth(1.3)\n",
    "ax.spines['top'].set_linewidth(1.3)\n",
    "ax.spines['right'].set_linewidth(1.3)\n",
    "plt.legend(bbox_to_anchor=(0.5, 0.3), loc='upper left')\n",
    "ax.set(xlabel='$Q^2$ (GeV)', ylabel='$\\hat{\\\\alpha}_s(M_Z)$')\n",
    "ax.set_xlim([3,6.5])\n",
    "ax.set_ylim([0.110,0.128])\n",
    "\n",
    "fig.savefig(\"asfromlattice.png\",dpi=600)\n",
    "plt.show()"
   ]
  },
  {
   "cell_type": "code",
   "execution_count": 7,
   "id": "5443631e-f0e7-4a2d-8f4b-da0b9060dc04",
   "metadata": {},
   "outputs": [
    {
     "data": {
      "text/latex": [
       "$\\displaystyle \\hat{\\alpha}_s(M_Z)= 0.1186\\pm0.003\\,\\,\\, \\mathrm{at}\\,\\,\\, 2.0GeV$"
      ],
      "text/plain": [
       "<IPython.core.display.Math object>"
      ]
     },
     "metadata": {},
     "output_type": "display_data"
    }
   ],
   "source": [
    "text=(\"\\hat{\\\\alpha}_s(M_Z)= \"+ str(round(aslat[1][181],4))+\n",
    "      \"\\pm\"+\n",
    "      str(round((aslat[2][181]-aslat[1][181]),3))+\n",
    "      \"\\,\\,\\, \\mathrm{at}\\,\\,\\, \"+\n",
    "      str(round(np.sqrt(qplot[181]),3))+\n",
    "      \"GeV\"\n",
    "     )\n",
    "from IPython.display import display, Math\n",
    "display(Math(text))"
   ]
  },
  {
   "cell_type": "code",
   "execution_count": null,
   "id": "379cf88d-be56-45e0-ab63-5a86b51ee3d7",
   "metadata": {},
   "outputs": [],
   "source": []
  },
  {
   "cell_type": "code",
   "execution_count": null,
   "id": "555f7b1d-1364-4657-b000-a8007fe4e1cd",
   "metadata": {},
   "outputs": [],
   "source": []
  },
  {
   "cell_type": "code",
   "execution_count": null,
   "id": "f32a18dd-b0dc-4b62-950b-4d81a17dc3e2",
   "metadata": {},
   "outputs": [],
   "source": []
  },
  {
   "cell_type": "code",
   "execution_count": null,
   "id": "4647f71e-4b9f-4b73-9114-99d7dd4186a1",
   "metadata": {},
   "outputs": [],
   "source": []
  }
 ],
 "metadata": {
  "kernelspec": {
   "display_name": "Python 3 (ipykernel)",
   "language": "python",
   "name": "python3"
  },
  "language_info": {
   "codemirror_mode": {
    "name": "ipython",
    "version": 3
   },
   "file_extension": ".py",
   "mimetype": "text/x-python",
   "name": "python",
   "nbconvert_exporter": "python",
   "pygments_lexer": "ipython3",
   "version": "3.10.5"
  }
 },
 "nbformat": 4,
 "nbformat_minor": 5
}
